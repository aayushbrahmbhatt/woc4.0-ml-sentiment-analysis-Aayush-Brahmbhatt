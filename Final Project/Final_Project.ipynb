{
 "cells": [
  {
   "cell_type": "markdown",
   "id": "f4e17bc3",
   "metadata": {},
   "source": [
    "<h1><center> <font color = 'green'>Final Project</font></center></h1>"
   ]
  },
  {
   "cell_type": "code",
   "execution_count": 191,
   "id": "76605dcf",
   "metadata": {},
   "outputs": [],
   "source": [
    "import pandas as pd\n",
    "import matplotlib.pyplot as plt\n",
    "import seaborn as sns"
   ]
  },
  {
   "cell_type": "code",
   "execution_count": 125,
   "id": "9d263973",
   "metadata": {},
   "outputs": [],
   "source": [
    "%matplotlib inline"
   ]
  },
  {
   "cell_type": "code",
   "execution_count": 126,
   "id": "283e90ab",
   "metadata": {},
   "outputs": [
    {
     "data": {
      "text/html": [
       "<div>\n",
       "<style scoped>\n",
       "    .dataframe tbody tr th:only-of-type {\n",
       "        vertical-align: middle;\n",
       "    }\n",
       "\n",
       "    .dataframe tbody tr th {\n",
       "        vertical-align: top;\n",
       "    }\n",
       "\n",
       "    .dataframe thead th {\n",
       "        text-align: right;\n",
       "    }\n",
       "</style>\n",
       "<table border=\"1\" class=\"dataframe\">\n",
       "  <thead>\n",
       "    <tr style=\"text-align: right;\">\n",
       "      <th></th>\n",
       "      <th>reviewId</th>\n",
       "      <th>userName</th>\n",
       "      <th>userImage</th>\n",
       "      <th>content</th>\n",
       "      <th>score</th>\n",
       "      <th>thumbsUpCount</th>\n",
       "      <th>reviewCreatedVersion</th>\n",
       "      <th>at</th>\n",
       "      <th>replyContent</th>\n",
       "      <th>repliedAt</th>\n",
       "      <th>sortOrder</th>\n",
       "      <th>appId</th>\n",
       "    </tr>\n",
       "  </thead>\n",
       "  <tbody>\n",
       "    <tr>\n",
       "      <th>0</th>\n",
       "      <td>gp:AOqpTOEhZuqSqqWnaKRgv-9ABYdajFUB0WugPGh-SG-...</td>\n",
       "      <td>Eric Tie</td>\n",
       "      <td>https://play-lh.googleusercontent.com/a-/AOh14...</td>\n",
       "      <td>I cannot open the app anymore</td>\n",
       "      <td>1</td>\n",
       "      <td>0</td>\n",
       "      <td>5.4.0.6</td>\n",
       "      <td>2020-10-27 21:24:41</td>\n",
       "      <td>NaN</td>\n",
       "      <td>NaN</td>\n",
       "      <td>newest</td>\n",
       "      <td>com.anydo</td>\n",
       "    </tr>\n",
       "    <tr>\n",
       "      <th>1</th>\n",
       "      <td>gp:AOqpTOH0WP4IQKBZ2LrdNmFy_YmpPCVrV3diEU9KGm3...</td>\n",
       "      <td>john alpha</td>\n",
       "      <td>https://play-lh.googleusercontent.com/a-/AOh14...</td>\n",
       "      <td>I have been begging for a refund from this app...</td>\n",
       "      <td>1</td>\n",
       "      <td>0</td>\n",
       "      <td>NaN</td>\n",
       "      <td>2020-10-27 14:03:28</td>\n",
       "      <td>Please note that from checking our records, yo...</td>\n",
       "      <td>2020-10-27 15:05:52</td>\n",
       "      <td>newest</td>\n",
       "      <td>com.anydo</td>\n",
       "    </tr>\n",
       "    <tr>\n",
       "      <th>2</th>\n",
       "      <td>gp:AOqpTOEMCkJB8Iq1p-r9dPwnSYadA5BkPWTf32Z1azu...</td>\n",
       "      <td>Sudhakar .S</td>\n",
       "      <td>https://play-lh.googleusercontent.com/a-/AOh14...</td>\n",
       "      <td>Very costly for the premium version (approx In...</td>\n",
       "      <td>1</td>\n",
       "      <td>0</td>\n",
       "      <td>NaN</td>\n",
       "      <td>2020-10-27 08:18:40</td>\n",
       "      <td>NaN</td>\n",
       "      <td>NaN</td>\n",
       "      <td>newest</td>\n",
       "      <td>com.anydo</td>\n",
       "    </tr>\n",
       "    <tr>\n",
       "      <th>3</th>\n",
       "      <td>gp:AOqpTOGFrUWuKGycpje8kszj3uwHN6tU_fd4gLVFy9z...</td>\n",
       "      <td>SKGflorida@bellsouth.net DAVID S</td>\n",
       "      <td>https://play-lh.googleusercontent.com/-75aK0WF...</td>\n",
       "      <td>Used to keep me organized, but all the 2020 UP...</td>\n",
       "      <td>1</td>\n",
       "      <td>0</td>\n",
       "      <td>NaN</td>\n",
       "      <td>2020-10-26 13:28:07</td>\n",
       "      <td>What do you find troublesome about the update?...</td>\n",
       "      <td>2020-10-26 14:58:29</td>\n",
       "      <td>newest</td>\n",
       "      <td>com.anydo</td>\n",
       "    </tr>\n",
       "    <tr>\n",
       "      <th>4</th>\n",
       "      <td>gp:AOqpTOHls7DW8wmDFzTkHwxuqFkdNQtKHmO6Pt9jhZE...</td>\n",
       "      <td>Louann Stoker</td>\n",
       "      <td>https://play-lh.googleusercontent.com/-pBcY_Z-...</td>\n",
       "      <td>Dan Birthday Oct 28</td>\n",
       "      <td>1</td>\n",
       "      <td>0</td>\n",
       "      <td>5.6.0.7</td>\n",
       "      <td>2020-10-26 06:10:50</td>\n",
       "      <td>NaN</td>\n",
       "      <td>NaN</td>\n",
       "      <td>newest</td>\n",
       "      <td>com.anydo</td>\n",
       "    </tr>\n",
       "  </tbody>\n",
       "</table>\n",
       "</div>"
      ],
      "text/plain": [
       "                                            reviewId  \\\n",
       "0  gp:AOqpTOEhZuqSqqWnaKRgv-9ABYdajFUB0WugPGh-SG-...   \n",
       "1  gp:AOqpTOH0WP4IQKBZ2LrdNmFy_YmpPCVrV3diEU9KGm3...   \n",
       "2  gp:AOqpTOEMCkJB8Iq1p-r9dPwnSYadA5BkPWTf32Z1azu...   \n",
       "3  gp:AOqpTOGFrUWuKGycpje8kszj3uwHN6tU_fd4gLVFy9z...   \n",
       "4  gp:AOqpTOHls7DW8wmDFzTkHwxuqFkdNQtKHmO6Pt9jhZE...   \n",
       "\n",
       "                           userName  \\\n",
       "0                          Eric Tie   \n",
       "1                        john alpha   \n",
       "2                       Sudhakar .S   \n",
       "3  SKGflorida@bellsouth.net DAVID S   \n",
       "4                     Louann Stoker   \n",
       "\n",
       "                                           userImage  \\\n",
       "0  https://play-lh.googleusercontent.com/a-/AOh14...   \n",
       "1  https://play-lh.googleusercontent.com/a-/AOh14...   \n",
       "2  https://play-lh.googleusercontent.com/a-/AOh14...   \n",
       "3  https://play-lh.googleusercontent.com/-75aK0WF...   \n",
       "4  https://play-lh.googleusercontent.com/-pBcY_Z-...   \n",
       "\n",
       "                                             content  score  thumbsUpCount  \\\n",
       "0                      I cannot open the app anymore      1              0   \n",
       "1  I have been begging for a refund from this app...      1              0   \n",
       "2  Very costly for the premium version (approx In...      1              0   \n",
       "3  Used to keep me organized, but all the 2020 UP...      1              0   \n",
       "4                                Dan Birthday Oct 28      1              0   \n",
       "\n",
       "  reviewCreatedVersion                   at  \\\n",
       "0              5.4.0.6  2020-10-27 21:24:41   \n",
       "1                  NaN  2020-10-27 14:03:28   \n",
       "2                  NaN  2020-10-27 08:18:40   \n",
       "3                  NaN  2020-10-26 13:28:07   \n",
       "4              5.6.0.7  2020-10-26 06:10:50   \n",
       "\n",
       "                                        replyContent            repliedAt  \\\n",
       "0                                                NaN                  NaN   \n",
       "1  Please note that from checking our records, yo...  2020-10-27 15:05:52   \n",
       "2                                                NaN                  NaN   \n",
       "3  What do you find troublesome about the update?...  2020-10-26 14:58:29   \n",
       "4                                                NaN                  NaN   \n",
       "\n",
       "  sortOrder      appId  \n",
       "0    newest  com.anydo  \n",
       "1    newest  com.anydo  \n",
       "2    newest  com.anydo  \n",
       "3    newest  com.anydo  \n",
       "4    newest  com.anydo  "
      ]
     },
     "execution_count": 126,
     "metadata": {},
     "output_type": "execute_result"
    }
   ],
   "source": [
    "df = pd.read_csv('reviews.csv') # Play Store app reviews dataset\n",
    "df.head()"
   ]
  },
  {
   "cell_type": "markdown",
   "id": "21a1eb22",
   "metadata": {},
   "source": [
    "## Data Insightes"
   ]
  },
  {
   "cell_type": "code",
   "execution_count": 127,
   "id": "482570a7",
   "metadata": {},
   "outputs": [
    {
     "data": {
      "text/plain": [
       "(12495, 12)"
      ]
     },
     "execution_count": 127,
     "metadata": {},
     "output_type": "execute_result"
    }
   ],
   "source": [
    "df.shape"
   ]
  },
  {
   "cell_type": "code",
   "execution_count": 187,
   "id": "d97a717c",
   "metadata": {},
   "outputs": [
    {
     "name": "stdout",
     "output_type": "stream",
     "text": [
      "<class 'pandas.core.frame.DataFrame'>\n",
      "RangeIndex: 12495 entries, 0 to 12494\n",
      "Data columns (total 3 columns):\n",
      " #   Column        Non-Null Count  Dtype \n",
      "---  ------        --------------  ----- \n",
      " 0   content       12495 non-null  object\n",
      " 1   ratings       12495 non-null  int64 \n",
      " 2   tokenizedCol  12495 non-null  object\n",
      "dtypes: int64(1), object(2)\n",
      "memory usage: 293.0+ KB\n"
     ]
    }
   ],
   "source": [
    "df.info()"
   ]
  },
  {
   "cell_type": "code",
   "execution_count": 129,
   "id": "f92fb14d",
   "metadata": {},
   "outputs": [
    {
     "data": {
      "text/plain": [
       "reviewId                   0\n",
       "userName                   0\n",
       "userImage                  0\n",
       "content                    0\n",
       "score                      0\n",
       "thumbsUpCount              0\n",
       "reviewCreatedVersion    2162\n",
       "at                         0\n",
       "replyContent            6677\n",
       "repliedAt               6677\n",
       "sortOrder                  0\n",
       "appId                      0\n",
       "dtype: int64"
      ]
     },
     "execution_count": 129,
     "metadata": {},
     "output_type": "execute_result"
    }
   ],
   "source": [
    "df.isna().sum()"
   ]
  },
  {
   "cell_type": "code",
   "execution_count": 130,
   "id": "1916f208",
   "metadata": {},
   "outputs": [],
   "source": [
    "df = df[['content','score']].copy()"
   ]
  },
  {
   "cell_type": "code",
   "execution_count": 131,
   "id": "b6099f2d",
   "metadata": {},
   "outputs": [],
   "source": [
    "def ratingsChanger(x):\n",
    "    if x >= 4:\n",
    "        return 2\n",
    "    elif x > 2:\n",
    "        return 1\n",
    "    else:\n",
    "        return 0"
   ]
  },
  {
   "cell_type": "markdown",
   "id": "1b362a4d",
   "metadata": {},
   "source": [
    "## Cleaning the Text"
   ]
  },
  {
   "cell_type": "code",
   "execution_count": 132,
   "id": "880da415",
   "metadata": {},
   "outputs": [],
   "source": [
    "df['ratings'] = df['score'].apply(ratingsChanger)"
   ]
  },
  {
   "cell_type": "code",
   "execution_count": 133,
   "id": "c334face",
   "metadata": {},
   "outputs": [],
   "source": [
    "df['content'] = df['content'].str.lower()"
   ]
  },
  {
   "cell_type": "code",
   "execution_count": 134,
   "id": "675ec41e",
   "metadata": {},
   "outputs": [
    {
     "data": {
      "text/html": [
       "<div>\n",
       "<style scoped>\n",
       "    .dataframe tbody tr th:only-of-type {\n",
       "        vertical-align: middle;\n",
       "    }\n",
       "\n",
       "    .dataframe tbody tr th {\n",
       "        vertical-align: top;\n",
       "    }\n",
       "\n",
       "    .dataframe thead th {\n",
       "        text-align: right;\n",
       "    }\n",
       "</style>\n",
       "<table border=\"1\" class=\"dataframe\">\n",
       "  <thead>\n",
       "    <tr style=\"text-align: right;\">\n",
       "      <th></th>\n",
       "      <th>content</th>\n",
       "      <th>score</th>\n",
       "      <th>ratings</th>\n",
       "    </tr>\n",
       "  </thead>\n",
       "  <tbody>\n",
       "    <tr>\n",
       "      <th>0</th>\n",
       "      <td>i cannot open the app anymore</td>\n",
       "      <td>1</td>\n",
       "      <td>0</td>\n",
       "    </tr>\n",
       "    <tr>\n",
       "      <th>1</th>\n",
       "      <td>i have been begging for a refund from this app...</td>\n",
       "      <td>1</td>\n",
       "      <td>0</td>\n",
       "    </tr>\n",
       "    <tr>\n",
       "      <th>2</th>\n",
       "      <td>very costly for the premium version (approx in...</td>\n",
       "      <td>1</td>\n",
       "      <td>0</td>\n",
       "    </tr>\n",
       "    <tr>\n",
       "      <th>3</th>\n",
       "      <td>used to keep me organized, but all the 2020 up...</td>\n",
       "      <td>1</td>\n",
       "      <td>0</td>\n",
       "    </tr>\n",
       "    <tr>\n",
       "      <th>4</th>\n",
       "      <td>dan birthday oct 28</td>\n",
       "      <td>1</td>\n",
       "      <td>0</td>\n",
       "    </tr>\n",
       "    <tr>\n",
       "      <th>...</th>\n",
       "      <td>...</td>\n",
       "      <td>...</td>\n",
       "      <td>...</td>\n",
       "    </tr>\n",
       "    <tr>\n",
       "      <th>12490</th>\n",
       "      <td>i really like the planner, it helps me achieve...</td>\n",
       "      <td>5</td>\n",
       "      <td>2</td>\n",
       "    </tr>\n",
       "    <tr>\n",
       "      <th>12491</th>\n",
       "      <td>😁****😁</td>\n",
       "      <td>5</td>\n",
       "      <td>2</td>\n",
       "    </tr>\n",
       "    <tr>\n",
       "      <th>12492</th>\n",
       "      <td>very useful apps. you must try it</td>\n",
       "      <td>5</td>\n",
       "      <td>2</td>\n",
       "    </tr>\n",
       "    <tr>\n",
       "      <th>12493</th>\n",
       "      <td>would pay for this if there were even more add...</td>\n",
       "      <td>5</td>\n",
       "      <td>2</td>\n",
       "    </tr>\n",
       "    <tr>\n",
       "      <th>12494</th>\n",
       "      <td>sooow good</td>\n",
       "      <td>5</td>\n",
       "      <td>2</td>\n",
       "    </tr>\n",
       "  </tbody>\n",
       "</table>\n",
       "<p>12495 rows × 3 columns</p>\n",
       "</div>"
      ],
      "text/plain": [
       "                                                 content  score  ratings\n",
       "0                          i cannot open the app anymore      1        0\n",
       "1      i have been begging for a refund from this app...      1        0\n",
       "2      very costly for the premium version (approx in...      1        0\n",
       "3      used to keep me organized, but all the 2020 up...      1        0\n",
       "4                                    dan birthday oct 28      1        0\n",
       "...                                                  ...    ...      ...\n",
       "12490  i really like the planner, it helps me achieve...      5        2\n",
       "12491                                             😁****😁      5        2\n",
       "12492                  very useful apps. you must try it      5        2\n",
       "12493  would pay for this if there were even more add...      5        2\n",
       "12494                                         sooow good      5        2\n",
       "\n",
       "[12495 rows x 3 columns]"
      ]
     },
     "execution_count": 134,
     "metadata": {},
     "output_type": "execute_result"
    }
   ],
   "source": [
    "df"
   ]
  },
  {
   "cell_type": "code",
   "execution_count": 135,
   "id": "70ab87a1",
   "metadata": {},
   "outputs": [
    {
     "data": {
      "text/plain": [
       "<AxesSubplot:xlabel='ratings', ylabel='count'>"
      ]
     },
     "execution_count": 135,
     "metadata": {},
     "output_type": "execute_result"
    },
    {
     "data": {
      "image/png": "[encoded data removed]",
      "text/plain": [
       "<Figure size 432x288 with 1 Axes>"
      ]
     },
     "metadata": {
      "needs_background": "light"
     },
     "output_type": "display_data"
    }
   ],
   "source": [
    "sns.countplot(x = df['ratings'])"
   ]
  },
  {
   "cell_type": "code",
   "execution_count": 136,
   "id": "726446c0",
   "metadata": {},
   "outputs": [],
   "source": [
    "df.drop(labels = 'score',axis = 1,inplace = True)"
   ]
  },
  {
   "cell_type": "code",
   "execution_count": 137,
   "id": "7e4f2a76",
   "metadata": {},
   "outputs": [
    {
     "data": {
      "text/html": [
       "<div>\n",
       "<style scoped>\n",
       "    .dataframe tbody tr th:only-of-type {\n",
       "        vertical-align: middle;\n",
       "    }\n",
       "\n",
       "    .dataframe tbody tr th {\n",
       "        vertical-align: top;\n",
       "    }\n",
       "\n",
       "    .dataframe thead th {\n",
       "        text-align: right;\n",
       "    }\n",
       "</style>\n",
       "<table border=\"1\" class=\"dataframe\">\n",
       "  <thead>\n",
       "    <tr style=\"text-align: right;\">\n",
       "      <th></th>\n",
       "      <th>content</th>\n",
       "      <th>ratings</th>\n",
       "    </tr>\n",
       "  </thead>\n",
       "  <tbody>\n",
       "    <tr>\n",
       "      <th>0</th>\n",
       "      <td>i cannot open the app anymore</td>\n",
       "      <td>0</td>\n",
       "    </tr>\n",
       "    <tr>\n",
       "      <th>1</th>\n",
       "      <td>i have been begging for a refund from this app...</td>\n",
       "      <td>0</td>\n",
       "    </tr>\n",
       "    <tr>\n",
       "      <th>2</th>\n",
       "      <td>very costly for the premium version (approx in...</td>\n",
       "      <td>0</td>\n",
       "    </tr>\n",
       "    <tr>\n",
       "      <th>3</th>\n",
       "      <td>used to keep me organized, but all the 2020 up...</td>\n",
       "      <td>0</td>\n",
       "    </tr>\n",
       "    <tr>\n",
       "      <th>4</th>\n",
       "      <td>dan birthday oct 28</td>\n",
       "      <td>0</td>\n",
       "    </tr>\n",
       "    <tr>\n",
       "      <th>...</th>\n",
       "      <td>...</td>\n",
       "      <td>...</td>\n",
       "    </tr>\n",
       "    <tr>\n",
       "      <th>12490</th>\n",
       "      <td>i really like the planner, it helps me achieve...</td>\n",
       "      <td>2</td>\n",
       "    </tr>\n",
       "    <tr>\n",
       "      <th>12491</th>\n",
       "      <td>😁****😁</td>\n",
       "      <td>2</td>\n",
       "    </tr>\n",
       "    <tr>\n",
       "      <th>12492</th>\n",
       "      <td>very useful apps. you must try it</td>\n",
       "      <td>2</td>\n",
       "    </tr>\n",
       "    <tr>\n",
       "      <th>12493</th>\n",
       "      <td>would pay for this if there were even more add...</td>\n",
       "      <td>2</td>\n",
       "    </tr>\n",
       "    <tr>\n",
       "      <th>12494</th>\n",
       "      <td>sooow good</td>\n",
       "      <td>2</td>\n",
       "    </tr>\n",
       "  </tbody>\n",
       "</table>\n",
       "<p>12495 rows × 2 columns</p>\n",
       "</div>"
      ],
      "text/plain": [
       "                                                 content  ratings\n",
       "0                          i cannot open the app anymore        0\n",
       "1      i have been begging for a refund from this app...        0\n",
       "2      very costly for the premium version (approx in...        0\n",
       "3      used to keep me organized, but all the 2020 up...        0\n",
       "4                                    dan birthday oct 28        0\n",
       "...                                                  ...      ...\n",
       "12490  i really like the planner, it helps me achieve...        2\n",
       "12491                                             😁****😁        2\n",
       "12492                  very useful apps. you must try it        2\n",
       "12493  would pay for this if there were even more add...        2\n",
       "12494                                         sooow good        2\n",
       "\n",
       "[12495 rows x 2 columns]"
      ]
     },
     "execution_count": 137,
     "metadata": {},
     "output_type": "execute_result"
    }
   ],
   "source": [
    "df"
   ]
  },
  {
   "cell_type": "markdown",
   "id": "3537b2ab",
   "metadata": {},
   "source": [
    "## Feature engineering"
   ]
  },
  {
   "cell_type": "code",
   "execution_count": 138,
   "id": "18850a59",
   "metadata": {},
   "outputs": [],
   "source": [
    "import re"
   ]
  },
  {
   "cell_type": "code",
   "execution_count": 139,
   "id": "649fe978",
   "metadata": {},
   "outputs": [],
   "source": [
    "df['content'] = df['content'].apply(lambda x: re.sub(r'[^A-Za-z\\s]', '  ',x))  # Removing Special Characters"
   ]
  },
  {
   "cell_type": "code",
   "execution_count": 140,
   "id": "808e0084",
   "metadata": {},
   "outputs": [
    {
     "data": {
      "text/html": [
       "<div>\n",
       "<style scoped>\n",
       "    .dataframe tbody tr th:only-of-type {\n",
       "        vertical-align: middle;\n",
       "    }\n",
       "\n",
       "    .dataframe tbody tr th {\n",
       "        vertical-align: top;\n",
       "    }\n",
       "\n",
       "    .dataframe thead th {\n",
       "        text-align: right;\n",
       "    }\n",
       "</style>\n",
       "<table border=\"1\" class=\"dataframe\">\n",
       "  <thead>\n",
       "    <tr style=\"text-align: right;\">\n",
       "      <th></th>\n",
       "      <th>content</th>\n",
       "      <th>ratings</th>\n",
       "    </tr>\n",
       "  </thead>\n",
       "  <tbody>\n",
       "    <tr>\n",
       "      <th>0</th>\n",
       "      <td>i cannot open the app anymore</td>\n",
       "      <td>0</td>\n",
       "    </tr>\n",
       "    <tr>\n",
       "      <th>1</th>\n",
       "      <td>i have been begging for a refund from this app...</td>\n",
       "      <td>0</td>\n",
       "    </tr>\n",
       "    <tr>\n",
       "      <th>2</th>\n",
       "      <td>very costly for the premium version   approx i...</td>\n",
       "      <td>0</td>\n",
       "    </tr>\n",
       "    <tr>\n",
       "      <th>3</th>\n",
       "      <td>used to keep me organized   but all the       ...</td>\n",
       "      <td>0</td>\n",
       "    </tr>\n",
       "    <tr>\n",
       "      <th>4</th>\n",
       "      <td>dan birthday oct</td>\n",
       "      <td>0</td>\n",
       "    </tr>\n",
       "    <tr>\n",
       "      <th>...</th>\n",
       "      <td>...</td>\n",
       "      <td>...</td>\n",
       "    </tr>\n",
       "    <tr>\n",
       "      <th>12490</th>\n",
       "      <td>i really like the planner   it helps me achiev...</td>\n",
       "      <td>2</td>\n",
       "    </tr>\n",
       "    <tr>\n",
       "      <th>12491</th>\n",
       "      <td></td>\n",
       "      <td>2</td>\n",
       "    </tr>\n",
       "    <tr>\n",
       "      <th>12492</th>\n",
       "      <td>very useful apps   you must try it</td>\n",
       "      <td>2</td>\n",
       "    </tr>\n",
       "    <tr>\n",
       "      <th>12493</th>\n",
       "      <td>would pay for this if there were even more add...</td>\n",
       "      <td>2</td>\n",
       "    </tr>\n",
       "    <tr>\n",
       "      <th>12494</th>\n",
       "      <td>sooow good</td>\n",
       "      <td>2</td>\n",
       "    </tr>\n",
       "  </tbody>\n",
       "</table>\n",
       "<p>12495 rows × 2 columns</p>\n",
       "</div>"
      ],
      "text/plain": [
       "                                                 content  ratings\n",
       "0                          i cannot open the app anymore        0\n",
       "1      i have been begging for a refund from this app...        0\n",
       "2      very costly for the premium version   approx i...        0\n",
       "3      used to keep me organized   but all the       ...        0\n",
       "4                                  dan birthday oct             0\n",
       "...                                                  ...      ...\n",
       "12490  i really like the planner   it helps me achiev...        2\n",
       "12491                                                           2\n",
       "12492                 very useful apps   you must try it        2\n",
       "12493  would pay for this if there were even more add...        2\n",
       "12494                                         sooow good        2\n",
       "\n",
       "[12495 rows x 2 columns]"
      ]
     },
     "execution_count": 140,
     "metadata": {},
     "output_type": "execute_result"
    }
   ],
   "source": [
    "df"
   ]
  },
  {
   "cell_type": "code",
   "execution_count": 141,
   "id": "7223128c",
   "metadata": {},
   "outputs": [],
   "source": [
    "df['content'] = df['content'].apply(lambda x: re.sub(r'(https?://)?(www\\.)?\\w+\\.\\w+', '',x)) # Removing Hyperlinks"
   ]
  },
  {
   "cell_type": "code",
   "execution_count": 142,
   "id": "2a0aa8d2",
   "metadata": {},
   "outputs": [],
   "source": [
    "df['content'] = df['content'].apply(lambda x: re.sub(r'\\s+', ' ', x)) # Removing two or more spaces"
   ]
  },
  {
   "cell_type": "code",
   "execution_count": 143,
   "id": "058dcfa1",
   "metadata": {},
   "outputs": [
    {
     "data": {
      "text/html": [
       "<div>\n",
       "<style scoped>\n",
       "    .dataframe tbody tr th:only-of-type {\n",
       "        vertical-align: middle;\n",
       "    }\n",
       "\n",
       "    .dataframe tbody tr th {\n",
       "        vertical-align: top;\n",
       "    }\n",
       "\n",
       "    .dataframe thead th {\n",
       "        text-align: right;\n",
       "    }\n",
       "</style>\n",
       "<table border=\"1\" class=\"dataframe\">\n",
       "  <thead>\n",
       "    <tr style=\"text-align: right;\">\n",
       "      <th></th>\n",
       "      <th>content</th>\n",
       "      <th>ratings</th>\n",
       "    </tr>\n",
       "  </thead>\n",
       "  <tbody>\n",
       "    <tr>\n",
       "      <th>0</th>\n",
       "      <td>i cannot open the app anymore</td>\n",
       "      <td>0</td>\n",
       "    </tr>\n",
       "    <tr>\n",
       "      <th>1</th>\n",
       "      <td>i have been begging for a refund from this app...</td>\n",
       "      <td>0</td>\n",
       "    </tr>\n",
       "    <tr>\n",
       "      <th>2</th>\n",
       "      <td>very costly for the premium version approx ind...</td>\n",
       "      <td>0</td>\n",
       "    </tr>\n",
       "    <tr>\n",
       "      <th>3</th>\n",
       "      <td>used to keep me organized but all the updates ...</td>\n",
       "      <td>0</td>\n",
       "    </tr>\n",
       "    <tr>\n",
       "      <th>4</th>\n",
       "      <td>dan birthday oct</td>\n",
       "      <td>0</td>\n",
       "    </tr>\n",
       "    <tr>\n",
       "      <th>...</th>\n",
       "      <td>...</td>\n",
       "      <td>...</td>\n",
       "    </tr>\n",
       "    <tr>\n",
       "      <th>12490</th>\n",
       "      <td>i really like the planner it helps me achieve ...</td>\n",
       "      <td>2</td>\n",
       "    </tr>\n",
       "    <tr>\n",
       "      <th>12491</th>\n",
       "      <td></td>\n",
       "      <td>2</td>\n",
       "    </tr>\n",
       "    <tr>\n",
       "      <th>12492</th>\n",
       "      <td>very useful apps you must try it</td>\n",
       "      <td>2</td>\n",
       "    </tr>\n",
       "    <tr>\n",
       "      <th>12493</th>\n",
       "      <td>would pay for this if there were even more add...</td>\n",
       "      <td>2</td>\n",
       "    </tr>\n",
       "    <tr>\n",
       "      <th>12494</th>\n",
       "      <td>sooow good</td>\n",
       "      <td>2</td>\n",
       "    </tr>\n",
       "  </tbody>\n",
       "</table>\n",
       "<p>12495 rows × 2 columns</p>\n",
       "</div>"
      ],
      "text/plain": [
       "                                                 content  ratings\n",
       "0                          i cannot open the app anymore        0\n",
       "1      i have been begging for a refund from this app...        0\n",
       "2      very costly for the premium version approx ind...        0\n",
       "3      used to keep me organized but all the updates ...        0\n",
       "4                                      dan birthday oct         0\n",
       "...                                                  ...      ...\n",
       "12490  i really like the planner it helps me achieve ...        2\n",
       "12491                                                           2\n",
       "12492                   very useful apps you must try it        2\n",
       "12493  would pay for this if there were even more add...        2\n",
       "12494                                         sooow good        2\n",
       "\n",
       "[12495 rows x 2 columns]"
      ]
     },
     "execution_count": 143,
     "metadata": {},
     "output_type": "execute_result"
    }
   ],
   "source": [
    "df"
   ]
  },
  {
   "cell_type": "markdown",
   "id": "91fb8d70",
   "metadata": {},
   "source": [
    "## Tokenization and Stopword "
   ]
  },
  {
   "cell_type": "code",
   "execution_count": 144,
   "id": "9ca24a0c",
   "metadata": {},
   "outputs": [
    {
     "name": "stderr",
     "output_type": "stream",
     "text": [
      "[nltk_data] Downloading package punkt to\n",
      "[nltk_data]     C:\\Users\\Dell\\AppData\\Roaming\\nltk_data...\n",
      "[nltk_data]   Package punkt is already up-to-date!\n",
      "[nltk_data] Downloading package stopwords to\n",
      "[nltk_data]     C:\\Users\\Dell\\AppData\\Roaming\\nltk_data...\n",
      "[nltk_data]   Package stopwords is already up-to-date!\n"
     ]
    }
   ],
   "source": [
    "import nltk\n",
    "nltk.download('punkt')\n",
    "\n",
    "from nltk.corpus import stopwords\n",
    "nltk.download('stopwords')\n",
    "\n",
    "from nltk.tokenize import word_tokenize"
   ]
  },
  {
   "cell_type": "code",
   "execution_count": 145,
   "id": "d0047c0c",
   "metadata": {},
   "outputs": [],
   "source": [
    "df['tokenizedCol'] = df['content'].apply(lambda x : word_tokenize(x))"
   ]
  },
  {
   "cell_type": "code",
   "execution_count": 146,
   "id": "98448478",
   "metadata": {},
   "outputs": [
    {
     "data": {
      "text/plain": [
       "0                   [i, can, not, open, the, app, anymore]\n",
       "1        [i, have, been, begging, for, a, refund, from,...\n",
       "2        [very, costly, for, the, premium, version, app...\n",
       "3        [used, to, keep, me, organized, but, all, the,...\n",
       "4                                     [dan, birthday, oct]\n",
       "                               ...                        \n",
       "12490    [i, really, like, the, planner, it, helps, me,...\n",
       "12491                                                   []\n",
       "12492             [very, useful, apps, you, must, try, it]\n",
       "12493    [would, pay, for, this, if, there, were, even,...\n",
       "12494                                        [sooow, good]\n",
       "Name: tokenizedCol, Length: 12495, dtype: object"
      ]
     },
     "execution_count": 146,
     "metadata": {},
     "output_type": "execute_result"
    }
   ],
   "source": [
    "df['tokenizedCol']"
   ]
  },
  {
   "cell_type": "code",
   "execution_count": 147,
   "id": "71f7582d",
   "metadata": {},
   "outputs": [],
   "source": [
    "stopWords = stopwords.words('english')"
   ]
  },
  {
   "cell_type": "code",
   "execution_count": 148,
   "id": "60253bda",
   "metadata": {},
   "outputs": [],
   "source": [
    "def stopWordRemover(paraList):\n",
    "    listOfWords = []\n",
    "    for x in paraList:\n",
    "        if x not in stopWords:\n",
    "            listOfWords.append(x)\n",
    "    return listOfWords"
   ]
  },
  {
   "cell_type": "code",
   "execution_count": 149,
   "id": "c116dba4",
   "metadata": {},
   "outputs": [],
   "source": [
    "df['tokenizedCol'] = df['tokenizedCol'].apply(stopWordRemover)"
   ]
  },
  {
   "cell_type": "code",
   "execution_count": 150,
   "id": "0ec86f79",
   "metadata": {},
   "outputs": [
    {
     "data": {
      "text/html": [
       "<div>\n",
       "<style scoped>\n",
       "    .dataframe tbody tr th:only-of-type {\n",
       "        vertical-align: middle;\n",
       "    }\n",
       "\n",
       "    .dataframe tbody tr th {\n",
       "        vertical-align: top;\n",
       "    }\n",
       "\n",
       "    .dataframe thead th {\n",
       "        text-align: right;\n",
       "    }\n",
       "</style>\n",
       "<table border=\"1\" class=\"dataframe\">\n",
       "  <thead>\n",
       "    <tr style=\"text-align: right;\">\n",
       "      <th></th>\n",
       "      <th>content</th>\n",
       "      <th>ratings</th>\n",
       "      <th>tokenizedCol</th>\n",
       "    </tr>\n",
       "  </thead>\n",
       "  <tbody>\n",
       "    <tr>\n",
       "      <th>0</th>\n",
       "      <td>i cannot open the app anymore</td>\n",
       "      <td>0</td>\n",
       "      <td>[open, app, anymore]</td>\n",
       "    </tr>\n",
       "    <tr>\n",
       "      <th>1</th>\n",
       "      <td>i have been begging for a refund from this app...</td>\n",
       "      <td>0</td>\n",
       "      <td>[begging, refund, app, month, nobody, replying]</td>\n",
       "    </tr>\n",
       "    <tr>\n",
       "      <th>2</th>\n",
       "      <td>very costly for the premium version approx ind...</td>\n",
       "      <td>0</td>\n",
       "      <td>[costly, premium, version, approx, indian, rup...</td>\n",
       "    </tr>\n",
       "    <tr>\n",
       "      <th>3</th>\n",
       "      <td>used to keep me organized but all the updates ...</td>\n",
       "      <td>0</td>\n",
       "      <td>[used, keep, organized, updates, made, mess, t...</td>\n",
       "    </tr>\n",
       "    <tr>\n",
       "      <th>4</th>\n",
       "      <td>dan birthday oct</td>\n",
       "      <td>0</td>\n",
       "      <td>[dan, birthday, oct]</td>\n",
       "    </tr>\n",
       "    <tr>\n",
       "      <th>...</th>\n",
       "      <td>...</td>\n",
       "      <td>...</td>\n",
       "      <td>...</td>\n",
       "    </tr>\n",
       "    <tr>\n",
       "      <th>12490</th>\n",
       "      <td>i really like the planner it helps me achieve ...</td>\n",
       "      <td>2</td>\n",
       "      <td>[really, like, planner, helps, achieve, tasks,...</td>\n",
       "    </tr>\n",
       "    <tr>\n",
       "      <th>12491</th>\n",
       "      <td></td>\n",
       "      <td>2</td>\n",
       "      <td>[]</td>\n",
       "    </tr>\n",
       "    <tr>\n",
       "      <th>12492</th>\n",
       "      <td>very useful apps you must try it</td>\n",
       "      <td>2</td>\n",
       "      <td>[useful, apps, must, try]</td>\n",
       "    </tr>\n",
       "    <tr>\n",
       "      <th>12493</th>\n",
       "      <td>would pay for this if there were even more add...</td>\n",
       "      <td>2</td>\n",
       "      <td>[would, pay, even, additions, updates, absolut...</td>\n",
       "    </tr>\n",
       "    <tr>\n",
       "      <th>12494</th>\n",
       "      <td>sooow good</td>\n",
       "      <td>2</td>\n",
       "      <td>[sooow, good]</td>\n",
       "    </tr>\n",
       "  </tbody>\n",
       "</table>\n",
       "<p>12495 rows × 3 columns</p>\n",
       "</div>"
      ],
      "text/plain": [
       "                                                 content  ratings  \\\n",
       "0                          i cannot open the app anymore        0   \n",
       "1      i have been begging for a refund from this app...        0   \n",
       "2      very costly for the premium version approx ind...        0   \n",
       "3      used to keep me organized but all the updates ...        0   \n",
       "4                                      dan birthday oct         0   \n",
       "...                                                  ...      ...   \n",
       "12490  i really like the planner it helps me achieve ...        2   \n",
       "12491                                                           2   \n",
       "12492                   very useful apps you must try it        2   \n",
       "12493  would pay for this if there were even more add...        2   \n",
       "12494                                         sooow good        2   \n",
       "\n",
       "                                            tokenizedCol  \n",
       "0                                   [open, app, anymore]  \n",
       "1        [begging, refund, app, month, nobody, replying]  \n",
       "2      [costly, premium, version, approx, indian, rup...  \n",
       "3      [used, keep, organized, updates, made, mess, t...  \n",
       "4                                   [dan, birthday, oct]  \n",
       "...                                                  ...  \n",
       "12490  [really, like, planner, helps, achieve, tasks,...  \n",
       "12491                                                 []  \n",
       "12492                          [useful, apps, must, try]  \n",
       "12493  [would, pay, even, additions, updates, absolut...  \n",
       "12494                                      [sooow, good]  \n",
       "\n",
       "[12495 rows x 3 columns]"
      ]
     },
     "execution_count": 150,
     "metadata": {},
     "output_type": "execute_result"
    }
   ],
   "source": [
    "df"
   ]
  },
  {
   "cell_type": "markdown",
   "id": "592dac55",
   "metadata": {},
   "source": [
    "## Stemming"
   ]
  },
  {
   "cell_type": "code",
   "execution_count": 151,
   "id": "e966e3b5",
   "metadata": {},
   "outputs": [],
   "source": [
    "from nltk.stem import PorterStemmer\n",
    "porter = PorterStemmer()"
   ]
  },
  {
   "cell_type": "code",
   "execution_count": 152,
   "id": "c6be1204",
   "metadata": {},
   "outputs": [],
   "source": [
    "def stemmer(lst):\n",
    "    ans = []\n",
    "    for x in lst:\n",
    "        def res(x): return porter.stem(x)\n",
    "        ans.append(res(x))\n",
    "    return ans"
   ]
  },
  {
   "cell_type": "code",
   "execution_count": 153,
   "id": "7ca79270",
   "metadata": {},
   "outputs": [],
   "source": [
    "df['tokenizedCol'] = df['tokenizedCol'].apply(stemmer)"
   ]
  },
  {
   "cell_type": "code",
   "execution_count": 154,
   "id": "3927ae47",
   "metadata": {},
   "outputs": [
    {
     "data": {
      "text/html": [
       "<div>\n",
       "<style scoped>\n",
       "    .dataframe tbody tr th:only-of-type {\n",
       "        vertical-align: middle;\n",
       "    }\n",
       "\n",
       "    .dataframe tbody tr th {\n",
       "        vertical-align: top;\n",
       "    }\n",
       "\n",
       "    .dataframe thead th {\n",
       "        text-align: right;\n",
       "    }\n",
       "</style>\n",
       "<table border=\"1\" class=\"dataframe\">\n",
       "  <thead>\n",
       "    <tr style=\"text-align: right;\">\n",
       "      <th></th>\n",
       "      <th>content</th>\n",
       "      <th>ratings</th>\n",
       "      <th>tokenizedCol</th>\n",
       "    </tr>\n",
       "  </thead>\n",
       "  <tbody>\n",
       "    <tr>\n",
       "      <th>0</th>\n",
       "      <td>i cannot open the app anymore</td>\n",
       "      <td>0</td>\n",
       "      <td>[open, app, anymor]</td>\n",
       "    </tr>\n",
       "    <tr>\n",
       "      <th>1</th>\n",
       "      <td>i have been begging for a refund from this app...</td>\n",
       "      <td>0</td>\n",
       "      <td>[beg, refund, app, month, nobodi, repli]</td>\n",
       "    </tr>\n",
       "    <tr>\n",
       "      <th>2</th>\n",
       "      <td>very costly for the premium version approx ind...</td>\n",
       "      <td>0</td>\n",
       "      <td>[costli, premium, version, approx, indian, rup...</td>\n",
       "    </tr>\n",
       "    <tr>\n",
       "      <th>3</th>\n",
       "      <td>used to keep me organized but all the updates ...</td>\n",
       "      <td>0</td>\n",
       "      <td>[use, keep, organ, updat, made, mess, thing, c...</td>\n",
       "    </tr>\n",
       "    <tr>\n",
       "      <th>4</th>\n",
       "      <td>dan birthday oct</td>\n",
       "      <td>0</td>\n",
       "      <td>[dan, birthday, oct]</td>\n",
       "    </tr>\n",
       "    <tr>\n",
       "      <th>...</th>\n",
       "      <td>...</td>\n",
       "      <td>...</td>\n",
       "      <td>...</td>\n",
       "    </tr>\n",
       "    <tr>\n",
       "      <th>12490</th>\n",
       "      <td>i really like the planner it helps me achieve ...</td>\n",
       "      <td>2</td>\n",
       "      <td>[realli, like, planner, help, achiev, task, go...</td>\n",
       "    </tr>\n",
       "    <tr>\n",
       "      <th>12491</th>\n",
       "      <td></td>\n",
       "      <td>2</td>\n",
       "      <td>[]</td>\n",
       "    </tr>\n",
       "    <tr>\n",
       "      <th>12492</th>\n",
       "      <td>very useful apps you must try it</td>\n",
       "      <td>2</td>\n",
       "      <td>[use, app, must, tri]</td>\n",
       "    </tr>\n",
       "    <tr>\n",
       "      <th>12493</th>\n",
       "      <td>would pay for this if there were even more add...</td>\n",
       "      <td>2</td>\n",
       "      <td>[would, pay, even, addit, updat, absolut, love...</td>\n",
       "    </tr>\n",
       "    <tr>\n",
       "      <th>12494</th>\n",
       "      <td>sooow good</td>\n",
       "      <td>2</td>\n",
       "      <td>[sooow, good]</td>\n",
       "    </tr>\n",
       "  </tbody>\n",
       "</table>\n",
       "<p>12495 rows × 3 columns</p>\n",
       "</div>"
      ],
      "text/plain": [
       "                                                 content  ratings  \\\n",
       "0                          i cannot open the app anymore        0   \n",
       "1      i have been begging for a refund from this app...        0   \n",
       "2      very costly for the premium version approx ind...        0   \n",
       "3      used to keep me organized but all the updates ...        0   \n",
       "4                                      dan birthday oct         0   \n",
       "...                                                  ...      ...   \n",
       "12490  i really like the planner it helps me achieve ...        2   \n",
       "12491                                                           2   \n",
       "12492                   very useful apps you must try it        2   \n",
       "12493  would pay for this if there were even more add...        2   \n",
       "12494                                         sooow good        2   \n",
       "\n",
       "                                            tokenizedCol  \n",
       "0                                    [open, app, anymor]  \n",
       "1               [beg, refund, app, month, nobodi, repli]  \n",
       "2      [costli, premium, version, approx, indian, rup...  \n",
       "3      [use, keep, organ, updat, made, mess, thing, c...  \n",
       "4                                   [dan, birthday, oct]  \n",
       "...                                                  ...  \n",
       "12490  [realli, like, planner, help, achiev, task, go...  \n",
       "12491                                                 []  \n",
       "12492                              [use, app, must, tri]  \n",
       "12493  [would, pay, even, addit, updat, absolut, love...  \n",
       "12494                                      [sooow, good]  \n",
       "\n",
       "[12495 rows x 3 columns]"
      ]
     },
     "execution_count": 154,
     "metadata": {},
     "output_type": "execute_result"
    }
   ],
   "source": [
    "df"
   ]
  },
  {
   "cell_type": "code",
   "execution_count": 155,
   "id": "bc0ec761",
   "metadata": {},
   "outputs": [],
   "source": [
    "def FinalReviewMaker(stemmed_list):\n",
    "    empty = \"\"\n",
    "    for i in stemmed_list:\n",
    "        empty = empty + i + \" \"\n",
    "    return empty"
   ]
  },
  {
   "cell_type": "code",
   "execution_count": 156,
   "id": "1c83904c",
   "metadata": {},
   "outputs": [],
   "source": [
    "df['tokenizedCol'] = df['tokenizedCol'].apply(FinalReviewMaker)"
   ]
  },
  {
   "cell_type": "code",
   "execution_count": 157,
   "id": "79d841ed",
   "metadata": {},
   "outputs": [
    {
     "data": {
      "text/html": [
       "<div>\n",
       "<style scoped>\n",
       "    .dataframe tbody tr th:only-of-type {\n",
       "        vertical-align: middle;\n",
       "    }\n",
       "\n",
       "    .dataframe tbody tr th {\n",
       "        vertical-align: top;\n",
       "    }\n",
       "\n",
       "    .dataframe thead th {\n",
       "        text-align: right;\n",
       "    }\n",
       "</style>\n",
       "<table border=\"1\" class=\"dataframe\">\n",
       "  <thead>\n",
       "    <tr style=\"text-align: right;\">\n",
       "      <th></th>\n",
       "      <th>content</th>\n",
       "      <th>ratings</th>\n",
       "      <th>tokenizedCol</th>\n",
       "    </tr>\n",
       "  </thead>\n",
       "  <tbody>\n",
       "    <tr>\n",
       "      <th>0</th>\n",
       "      <td>i cannot open the app anymore</td>\n",
       "      <td>0</td>\n",
       "      <td>open app anymor</td>\n",
       "    </tr>\n",
       "    <tr>\n",
       "      <th>1</th>\n",
       "      <td>i have been begging for a refund from this app...</td>\n",
       "      <td>0</td>\n",
       "      <td>beg refund app month nobodi repli</td>\n",
       "    </tr>\n",
       "    <tr>\n",
       "      <th>2</th>\n",
       "      <td>very costly for the premium version approx ind...</td>\n",
       "      <td>0</td>\n",
       "      <td>costli premium version approx indian rupe per ...</td>\n",
       "    </tr>\n",
       "    <tr>\n",
       "      <th>3</th>\n",
       "      <td>used to keep me organized but all the updates ...</td>\n",
       "      <td>0</td>\n",
       "      <td>use keep organ updat made mess thing cudn u le...</td>\n",
       "    </tr>\n",
       "    <tr>\n",
       "      <th>4</th>\n",
       "      <td>dan birthday oct</td>\n",
       "      <td>0</td>\n",
       "      <td>dan birthday oct</td>\n",
       "    </tr>\n",
       "    <tr>\n",
       "      <th>...</th>\n",
       "      <td>...</td>\n",
       "      <td>...</td>\n",
       "      <td>...</td>\n",
       "    </tr>\n",
       "    <tr>\n",
       "      <th>12490</th>\n",
       "      <td>i really like the planner it helps me achieve ...</td>\n",
       "      <td>2</td>\n",
       "      <td>realli like planner help achiev task goal aven...</td>\n",
       "    </tr>\n",
       "    <tr>\n",
       "      <th>12491</th>\n",
       "      <td></td>\n",
       "      <td>2</td>\n",
       "      <td></td>\n",
       "    </tr>\n",
       "    <tr>\n",
       "      <th>12492</th>\n",
       "      <td>very useful apps you must try it</td>\n",
       "      <td>2</td>\n",
       "      <td>use app must tri</td>\n",
       "    </tr>\n",
       "    <tr>\n",
       "      <th>12493</th>\n",
       "      <td>would pay for this if there were even more add...</td>\n",
       "      <td>2</td>\n",
       "      <td>would pay even addit updat absolut love wish w...</td>\n",
       "    </tr>\n",
       "    <tr>\n",
       "      <th>12494</th>\n",
       "      <td>sooow good</td>\n",
       "      <td>2</td>\n",
       "      <td>sooow good</td>\n",
       "    </tr>\n",
       "  </tbody>\n",
       "</table>\n",
       "<p>12495 rows × 3 columns</p>\n",
       "</div>"
      ],
      "text/plain": [
       "                                                 content  ratings  \\\n",
       "0                          i cannot open the app anymore        0   \n",
       "1      i have been begging for a refund from this app...        0   \n",
       "2      very costly for the premium version approx ind...        0   \n",
       "3      used to keep me organized but all the updates ...        0   \n",
       "4                                      dan birthday oct         0   \n",
       "...                                                  ...      ...   \n",
       "12490  i really like the planner it helps me achieve ...        2   \n",
       "12491                                                           2   \n",
       "12492                   very useful apps you must try it        2   \n",
       "12493  would pay for this if there were even more add...        2   \n",
       "12494                                         sooow good        2   \n",
       "\n",
       "                                            tokenizedCol  \n",
       "0                                       open app anymor   \n",
       "1                     beg refund app month nobodi repli   \n",
       "2      costli premium version approx indian rupe per ...  \n",
       "3      use keep organ updat made mess thing cudn u le...  \n",
       "4                                      dan birthday oct   \n",
       "...                                                  ...  \n",
       "12490  realli like planner help achiev task goal aven...  \n",
       "12491                                                     \n",
       "12492                                  use app must tri   \n",
       "12493  would pay even addit updat absolut love wish w...  \n",
       "12494                                        sooow good   \n",
       "\n",
       "[12495 rows x 3 columns]"
      ]
     },
     "execution_count": 157,
     "metadata": {},
     "output_type": "execute_result"
    }
   ],
   "source": [
    "df"
   ]
  },
  {
   "cell_type": "markdown",
   "id": "f4906a7e",
   "metadata": {},
   "source": [
    "## Bag of Words"
   ]
  },
  {
   "cell_type": "code",
   "execution_count": 158,
   "id": "9a4bd9fc",
   "metadata": {},
   "outputs": [],
   "source": [
    "from sklearn.feature_extraction.text import CountVectorizer"
   ]
  },
  {
   "cell_type": "code",
   "execution_count": 159,
   "id": "e9788688",
   "metadata": {},
   "outputs": [],
   "source": [
    "obj = CountVectorizer()\n",
    "obj.fit(df['tokenizedCol'])\n",
    "X = obj.transform(df['tokenizedCol'])"
   ]
  },
  {
   "cell_type": "markdown",
   "id": "f2081d04",
   "metadata": {},
   "source": [
    "## Train and Test Split"
   ]
  },
  {
   "cell_type": "code",
   "execution_count": 160,
   "id": "416d85d5",
   "metadata": {},
   "outputs": [],
   "source": [
    "from sklearn.model_selection import train_test_split"
   ]
  },
  {
   "cell_type": "code",
   "execution_count": 167,
   "id": "9cb5c779",
   "metadata": {},
   "outputs": [],
   "source": [
    "X_train, X_test, y_train, y_test = train_test_split(X,df['ratings'],train_size = 0.8, random_state=42)"
   ]
  },
  {
   "cell_type": "markdown",
   "id": "38c900c9",
   "metadata": {},
   "source": [
    "## Logistic Regression"
   ]
  },
  {
   "cell_type": "code",
   "execution_count": 168,
   "id": "ac6b62d1",
   "metadata": {},
   "outputs": [],
   "source": [
    "from sklearn.linear_model import LogisticRegression"
   ]
  },
  {
   "cell_type": "code",
   "execution_count": 169,
   "id": "18e4780d",
   "metadata": {},
   "outputs": [
    {
     "data": {
      "text/plain": [
       "LogisticRegression(max_iter=2000)"
      ]
     },
     "execution_count": 169,
     "metadata": {},
     "output_type": "execute_result"
    }
   ],
   "source": [
    "model = LogisticRegression( max_iter = 2000)\n",
    "model.fit(X_train, y_train)"
   ]
  },
  {
   "cell_type": "code",
   "execution_count": 189,
   "id": "f65ddee1",
   "metadata": {},
   "outputs": [
    {
     "data": {
      "text/plain": [
       "0.687875150060024"
      ]
     },
     "execution_count": 189,
     "metadata": {},
     "output_type": "execute_result"
    }
   ],
   "source": [
    "model.score(X_test,y_test)"
   ]
  },
  {
   "cell_type": "code",
   "execution_count": 170,
   "id": "b44312dd",
   "metadata": {},
   "outputs": [
    {
     "data": {
      "text/plain": [
       "<AxesSubplot:ylabel='count'>"
      ]
     },
     "execution_count": 170,
     "metadata": {},
     "output_type": "execute_result"
    },
    {
     "data": {
      "image/png": "[encoded data removed]",
      "text/plain": [
       "<Figure size 432x288 with 1 Axes>"
      ]
     },
     "metadata": {
      "needs_background": "light"
     },
     "output_type": "display_data"
    }
   ],
   "source": [
    "sns.countplot(x =  model.predict(X_test))"
   ]
  },
  {
   "cell_type": "markdown",
   "id": "70c26e1d",
   "metadata": {},
   "source": [
    "## Naïve Bayes"
   ]
  },
  {
   "cell_type": "code",
   "execution_count": 180,
   "id": "3d0b6e49",
   "metadata": {},
   "outputs": [],
   "source": [
    "from sklearn.naive_bayes import MultinomialNB\n",
    "from sklearn.naive_bayes import BernoulliNB"
   ]
  },
  {
   "cell_type": "markdown",
   "id": "2a96b73d",
   "metadata": {},
   "source": [
    "### Bernoulli Naïve Bayes"
   ]
  },
  {
   "cell_type": "code",
   "execution_count": 181,
   "id": "01eb05de",
   "metadata": {},
   "outputs": [
    {
     "data": {
      "text/plain": [
       "BernoulliNB()"
      ]
     },
     "execution_count": 181,
     "metadata": {},
     "output_type": "execute_result"
    }
   ],
   "source": [
    "obj1 = BernoulliNB()\n",
    "obj1.fit(X_train,y_train)"
   ]
  },
  {
   "cell_type": "code",
   "execution_count": 188,
   "id": "c7bb2ab5",
   "metadata": {},
   "outputs": [
    {
     "data": {
      "text/plain": [
       "0.6210484193677471"
      ]
     },
     "execution_count": 188,
     "metadata": {},
     "output_type": "execute_result"
    }
   ],
   "source": [
    "obj1.score(X_test,y_test)"
   ]
  },
  {
   "cell_type": "code",
   "execution_count": 182,
   "id": "1e06b701",
   "metadata": {},
   "outputs": [
    {
     "data": {
      "text/plain": [
       "<AxesSubplot:ylabel='count'>"
      ]
     },
     "execution_count": 182,
     "metadata": {},
     "output_type": "execute_result"
    },
    {
     "data": {
      "image/png": "[encoded data removed]",
      "text/plain": [
       "<Figure size 432x288 with 1 Axes>"
      ]
     },
     "metadata": {
      "needs_background": "light"
     },
     "output_type": "display_data"
    }
   ],
   "source": [
    "sns.countplot(x =  obj1.predict(X_test))"
   ]
  },
  {
   "cell_type": "markdown",
   "id": "c9b7c0ea",
   "metadata": {},
   "source": [
    "### Multinomial Naïve Bayes"
   ]
  },
  {
   "cell_type": "code",
   "execution_count": 184,
   "id": "e45d343e",
   "metadata": {},
   "outputs": [
    {
     "data": {
      "text/plain": [
       "MultinomialNB()"
      ]
     },
     "execution_count": 184,
     "metadata": {},
     "output_type": "execute_result"
    }
   ],
   "source": [
    "obj2 = MultinomialNB()\n",
    "obj2.fit(X_train,y_train)"
   ]
  },
  {
   "cell_type": "code",
   "execution_count": 185,
   "id": "af431da7",
   "metadata": {},
   "outputs": [
    {
     "data": {
      "text/plain": [
       "0.6966786714685874"
      ]
     },
     "execution_count": 185,
     "metadata": {},
     "output_type": "execute_result"
    }
   ],
   "source": [
    "obj2.score(X_test,y_test)"
   ]
  },
  {
   "cell_type": "code",
   "execution_count": 186,
   "id": "29f46699",
   "metadata": {},
   "outputs": [
    {
     "data": {
      "text/plain": [
       "<AxesSubplot:ylabel='count'>"
      ]
     },
     "execution_count": 186,
     "metadata": {},
     "output_type": "execute_result"
    },
    {
     "data": {
      "image/png": "[encoded data removed]",
      "text/plain": [
       "<Figure size 432x288 with 1 Axes>"
      ]
     },
     "metadata": {
      "needs_background": "light"
     },
     "output_type": "display_data"
    }
   ],
   "source": [
    "sns.countplot(x =  obj2.predict(X_test))"
   ]
  },
  {
   "cell_type": "markdown",
   "id": "401518c5",
   "metadata": {},
   "source": [
    " <font color='green'><b>After applying three different classification algorithms, we can say that Multinomial Naïve Bayes works best for the given data with 69.67% accuracy. Logistic Regression is the second best algorithm with 68.79% accuracy.</b></font> "
   ]
  }
 ],
 "metadata": {
  "kernelspec": {
   "display_name": "Python 3",
   "language": "python",
   "name": "python3"
  },
  "language_info": {
   "codemirror_mode": {
    "name": "ipython",
    "version": 3
   },
   "file_extension": ".py",
   "mimetype": "text/x-python",
   "name": "python",
   "nbconvert_exporter": "python",
   "pygments_lexer": "ipython3",
   "version": "3.8.8"
  }
 },
 "nbformat": 4,
 "nbformat_minor": 5
}
